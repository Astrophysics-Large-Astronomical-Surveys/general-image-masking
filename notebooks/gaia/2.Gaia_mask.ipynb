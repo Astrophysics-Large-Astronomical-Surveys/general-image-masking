{
 "cells": [
  {
   "cell_type": "code",
   "execution_count": 1,
   "id": "9a159fed-ac12-4517-ac63-05b7e21bdffd",
   "metadata": {
    "tags": []
   },
   "outputs": [],
   "source": [
    "from astropy.visualization import AsymmetricPercentileInterval, ZScaleInterval\n",
    "from astropy.io import fits\n",
    "from astropy.wcs import WCS\n",
    "\n",
    "from matplotlib import pyplot as plt\n",
    "from matplotlib import colors\n",
    "from matplotlib.patches import Rectangle\n",
    "\n",
    "import numpy as np\n",
    "import os.path\n",
    "import glob\n",
    "import cv2\n",
    "import sep\n",
    "\n",
    "import query\n",
    "\n",
    "from astroquery.gaia import Gaia\n",
    "Gaia.ROW_LIMIT = -1"
   ]
  },
  {
   "cell_type": "code",
   "execution_count": null,
   "id": "ba7cbab2-88cb-4770-82a6-375c5f0cc2f7",
   "metadata": {},
   "outputs": [],
   "source": [
    "def gaia_star_mask(img, wcs, pix=0.168, mask_a=694.7, mask_b=4.04,\n",
    "                   size_buffer=1.4, gaia_bright=18.0,\n",
    "                   factor_b=1.3, factor_f=1.9):\n",
    "    \"\"\"Find stars using Gaia and mask them out if necessary.\n",
    "\n",
    "    Using the stars found in the GAIA TAP catalog, we build a bright star mask following\n",
    "    similar procedure in Coupon et al. (2017).\n",
    "\n",
    "    We separate the GAIA stars into bright (G <= 18.0) and faint (G > 18.0) groups, and\n",
    "    apply different parameters to build the mask.\n",
    "    \"\"\"\n",
    "    gaia_stars = query.image_gaia_stars(\n",
    "        img, wcs, pixel=pix, mask_a=mask_a, mask_b=mask_b, verbose=False, visual=False,\n",
    "        size_buffer=size_buffer)\n",
    "\n",
    "    # Make a mask image\n",
    "    msk_star = np.zeros(img.shape).astype('uint8')\n",
    "\n",
    "    if gaia_stars is not None:\n",
    "        gaia_b = gaia_stars[gaia_stars['phot_g_mean_mag'] <= gaia_bright]\n",
    "        sep.mask_ellipse(msk_star, gaia_b['x_pix'], gaia_b['y_pix'],\n",
    "                         gaia_b['rmask_arcsec'] / factor_b / pix,\n",
    "                         gaia_b['rmask_arcsec'] / factor_b / pix, 0.0, r=1.0)\n",
    "\n",
    "        gaia_f = gaia_stars[gaia_stars['phot_g_mean_mag'] > gaia_bright]\n",
    "        sep.mask_ellipse(msk_star, gaia_f['x_pix'], gaia_f['y_pix'],\n",
    "                         gaia_f['rmask_arcsec'] / factor_f / pix,\n",
    "                         gaia_f['rmask_arcsec'] / factor_f / pix, 0.0, r=1.0)\n",
    "\n",
    "        return gaia_stars, msk_star\n",
    "    \n",
    "def gaia2mask(filename):\n",
    "    # read and scale the image\n",
    "    ext = os.path.splitext(filename)[1]\n",
    "    if ext == '.fz':\n",
    "        hdu = fits.open(filename)[1]\n",
    "    else:\n",
    "        hdu = fits.open(filename)[0]    \n",
    "\n",
    "    data = hdu.data\n",
    "    header = hdu.header\n",
    "    wcs = WCS(header)\n",
    "    \n",
    "    scale = 0.55 # SPLUS scale \n",
    "    gaia_stars, msk_star = gaia_star_mask ( data, wcs, pix = scale, mask_a = 694.7, mask_b = 4, \n",
    "                                           size_buffer = 1.8, gaia_bright = 24.0, factor_b = 1.4, factor_f = 1.9 )\n",
    "    \n",
    "    mask = np.multiply(data, (~msk_star.astype(bool)))   \n",
    "    mask_file = os.path.splitext(filename)[0] + '_GMASK' + ext\n",
    "    \n",
    "    if ext == '.fz':\n",
    "        imageHeader = fits.Header()\n",
    "        hdu = fits.CompImageHDU ( mask, header )\n",
    "        hdu.writeto ( mask_file, overwrite = True )\n",
    "    else:\n",
    "        fits.writeto ( mask_file, mask, hdu.header, overwrite = True ) \n",
    "\n",
    "    print ( '[+] File created: ', mask_file )"
   ]
  },
  {
   "cell_type": "code",
   "execution_count": null,
   "id": "b54403ae-cb57-4571-bd95-c3427a753ef0",
   "metadata": {},
   "outputs": [],
   "source": [
    "filename = 'images/SPLUS-s27s34_R_swp.fz'\n",
    "\n",
    "gaia2mask(filename)"
   ]
  },
  {
   "cell_type": "code",
   "execution_count": null,
   "id": "2cac69d1-6507-4165-a875-e4c779885207",
   "metadata": {},
   "outputs": [],
   "source": [
    "filename = 'images/SPLUS-s27s34_R_swp_GMASK.fz'\n",
    "\n",
    "ext = os.path.splitext(filename)[1]\n",
    "if ext == '.fz':\n",
    "    hdu = fits.open(filename)[1]\n",
    "else:\n",
    "    hdu = fits.open(filename)[0]    \n",
    "\n",
    "data = hdu.data\n",
    "header = hdu.header\n",
    "wcs = WCS(header)\n",
    "\n",
    "zscale = ZScaleInterval(contrast=0.35) \n",
    "vmin, vmax = AsymmetricPercentileInterval ( lower_percentile = 50, upper_percentile = 95 ).get_limits ( zscale(data) )\n",
    "plt.imsave ( fname = 'images/SPLUS-s27s34_R_swp_GMASK.png', arr = zscale(data), cmap = 'gray_r', \n",
    "            vmin = vmin, vmax = vmax, origin = 'lower', format = 'png' )"
   ]
  }
 ],
 "metadata": {
  "kernelspec": {
   "display_name": "Python 3 (ipykernel)",
   "language": "python",
   "name": "python3"
  },
  "language_info": {
   "codemirror_mode": {
    "name": "ipython",
    "version": 3
   },
   "file_extension": ".py",
   "mimetype": "text/x-python",
   "name": "python",
   "nbconvert_exporter": "python",
   "pygments_lexer": "ipython3",
   "version": "3.7.12"
  }
 },
 "nbformat": 4,
 "nbformat_minor": 5
}
